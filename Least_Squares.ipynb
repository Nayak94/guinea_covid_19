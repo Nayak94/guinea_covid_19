{
  "nbformat": 4,
  "nbformat_minor": 0,
  "metadata": {
    "colab": {
      "name": "Least_Squares.ipynb",
      "provenance": [],
      "collapsed_sections": []
    },
    "kernelspec": {
      "name": "python3",
      "display_name": "Python 3"
    }
  },
  "cells": [
    {
      "cell_type": "markdown",
      "metadata": {
        "id": "ZX_ieJAl9iqv",
        "colab_type": "text"
      },
      "source": [
        "**Read the below intructions before proceeding :-**\n",
        "\n",
        "\n",
        "\n",
        "---\n",
        "\n",
        "\n",
        "\n",
        "1.   Run the cell containing all the required libraries to be imported.\n",
        "2.   This code will let you visualize and predict the \"Total Cases\" in natural log and normal form. \n",
        "\n",
        "3.   You will notice the when you calculate using the nutural log of the cases , the value of var_a is negative , which ideally is a downward facing parabola.\n",
        "4.  And when you calculate using the normal form of the cases , the value of var_a is positive , which ideally is an upward facing parabola.\n",
        "\n",
        "5.   You will also observe that in our case , the parabola with negative coefficient var_a fits the data better compared to the other one.\n",
        "6.   Refer 3rd block of the code to see ideal parabolas with positive and negative coefficients. Just change the sign of \"a\" to see both the cases.\n",
        "\n",
        "\n",
        "\n",
        "\n",
        "\n"
      ]
    },
    {
      "cell_type": "code",
      "metadata": {
        "id": "3zHqgL9AXuEt",
        "colab_type": "code",
        "colab": {}
      },
      "source": [
        "import pandas as pd\n",
        "import numpy as np\n",
        "import math\n",
        "import matplotlib.pyplot as plt\n"
      ],
      "execution_count": 0,
      "outputs": []
    },
    {
      "cell_type": "code",
      "metadata": {
        "id": "tM_rdjVtYbPr",
        "colab_type": "code",
        "outputId": "d3c32e3a-8fc9-4125-9a77-69ff4d916fd5",
        "colab": {
          "base_uri": "https://localhost:8080/",
          "height": 922
        }
      },
      "source": [
        "file='data.xlsx'\n",
        "x1 = pd.ExcelFile(file)\n",
        "df1 = x1.parse('Sheet1')\n",
        "\n",
        "\n",
        "x = df1[[\"Day\"]].to_numpy()\n",
        "y = df1[[\"Total Confirmed Cases\"]].to_numpy()\n",
        "\n",
        "x_new = []\n",
        "for i in x:\n",
        "  for j in i:\n",
        "    x_new.append(j)\n",
        "\n",
        "\n",
        "y_new = []\n",
        "for i in y:\n",
        "  for j in i:\n",
        "    y_new.append(j)\n",
        "\n",
        "y_log = np.log(y_new)\n",
        "\n",
        "\n",
        "\n",
        "plt.plot(x_new , y_new , 'b*')\n",
        "plt.xlabel('Day')\n",
        "plt.ylabel('Confirmed Cases as it is')\n",
        "plt.show()\n",
        "\n",
        "plt.plot(x_new , y_log , 'b*')\n",
        "plt.xlabel('Day')\n",
        "plt.ylabel('Confirmed Cases as natural log')\n",
        "plt.show()\n",
        "\n",
        "#Making the matrix A = [x^2 x 1]\n",
        "c1 = [None] * len(x_new)\n",
        "for i in range(len(x_new)):\n",
        "  c1[i] = x_new[i]**2\n",
        "\n",
        "c2 = [None] * len(x_new)\n",
        "for i in range(len(x_new)):\n",
        "  c2[i] = x_new[i]\n",
        "\n",
        "c3 = [1] * len(x_new)\n",
        "\n",
        "np.asarray(c1)\n",
        "np.asarray(c2)\n",
        "np.asarray(c3)\n",
        "A = [None] * 3\n",
        "A[0] = c1\n",
        "A[1] = c2\n",
        "A[2] = c3\n",
        "A = np.transpose(A)\n",
        "A_t = np.transpose(A)\n",
        "\n",
        "\n",
        "np.asarray(y_new)\n",
        "Y1 = [y_new] #cases as it is\n",
        "Y1 = np.transpose(Y1)\n",
        "\n",
        "np.asarray(y_log)\n",
        "Y2 = [y_log] #cases in the form of natural log\n",
        "Y2 = np.transpose(Y2)\n",
        "\n",
        "var1 = A_t.dot(Y2)\n",
        "#print(A1) #product of A transpose into Y\n",
        "\n",
        "var2 = np.linalg.inv(A_t.dot(A))\n",
        "#print(A2)#product of A into A transpose\n",
        "#A3 = np.linalg.inv(A2)\n",
        "\n",
        "var3 = var2.dot(var1)\n",
        "var_a=(var3[0][0])\n",
        "var_b=(var3[1][0])\n",
        "var_c=(var3[2][0])\n",
        "\n",
        "print(\"Variable a is :- \", round(var_a,5))\n",
        "print(\"Variable b is :- \", round(var_b,5))\n",
        "print(\"Variable c is :- \",round(var_c,5))\n",
        "\n",
        "\n",
        "#Let's predict the cases for 12th June , which is 43rd Day from our reference dat i.e May 1st .\n",
        "x_day = 43\n",
        "y_day = var_a*(x_day**2) + var_b*x_day + var_c\n",
        "\n",
        "print(\"Log of cases on desired day are :- \" , y_day) #IN var1 , if its Y1 then use this.\n",
        "print(\"Number of cases on desired day are :- \" , math.exp(y_day)) #IN var1 , if its Y2 then use this as we have to take exponential of the answer we got. \n",
        "print(end='\\n')\n",
        "y_cases = []\n",
        "for i in x_new:\n",
        "  cases = var_a*(i**2) + var_b*i + var_c\n",
        "  y_cases.append(cases)\n",
        "\n",
        "np.asarray(y_cases)\n",
        "#print(y_cases)\n",
        "\n",
        "\n",
        "plt.plot(x_new,y_cases,'r')\n",
        "plt.plot(x_new,y_log,'b*') #IN var1 , if its Y1 then use \"y_new\" and if its Y2 then use \"y_log\"\n",
        "plt.xlabel('Day')\n",
        "plt.ylabel('Confirmed Cases')\n",
        "plt.show\n",
        "\n"
      ],
      "execution_count": 11,
      "outputs": [
        {
          "output_type": "display_data",
          "data": {
            "image/png": "[encoded data removed]",
            "text/plain": [
              "<Figure size 432x288 with 1 Axes>"
            ]
          },
          "metadata": {
            "tags": [],
            "needs_background": "light"
          }
        },
        {
          "output_type": "display_data",
          "data": {
            "image/png": "[encoded data removed]",
            "text/plain": [
              "<Figure size 432x288 with 1 Axes>"
            ]
          },
          "metadata": {
            "tags": [],
            "needs_background": "light"
          }
        },
        {
          "output_type": "stream",
          "text": [
            "Variable a is :-  -0.00037\n",
            "Variable b is :-  0.04268\n",
            "Variable c is :-  7.24854\n",
            "Log of cases on desired day are :-  8.407589663163211\n",
            "Number of cases on desired day are :-  4480.946893192344\n",
            "\n"
          ],
          "name": "stdout"
        },
        {
          "output_type": "execute_result",
          "data": {
            "text/plain": [
              "<function matplotlib.pyplot.show>"
            ]
          },
          "metadata": {
            "tags": []
          },
          "execution_count": 11
        },
        {
          "output_type": "display_data",
          "data": {
            "image/png": "[encoded data removed]",
            "text/plain": [
              "<Figure size 432x288 with 1 Axes>"
            ]
          },
          "metadata": {
            "tags": [],
            "needs_background": "light"
          }
        }
      ]
    },
    {
      "cell_type": "code",
      "metadata": {
        "id": "SYQgINPuY3vX",
        "colab_type": "code",
        "outputId": "52908da1-1d9d-4167-d984-5c00d7037fc7",
        "colab": {
          "base_uri": "https://localhost:8080/",
          "height": 265
        }
      },
      "source": [
        "l = [-10,-9,-8,-7,-6,-5,-4,-3,-2,-1,0,1,2,3,4,5,6,7,8,9,10]\n",
        "m = []\n",
        "a=-5\n",
        "b=4\n",
        "c=3\n",
        "\n",
        "for i in l:\n",
        "  tmp = a*(i**2) + b*i + c\n",
        "  m.append(tmp)\n",
        "\n",
        "plt.plot(l,m,'b')\n",
        "plt.show()"
      ],
      "execution_count": 9,
      "outputs": [
        {
          "output_type": "display_data",
          "data": {
            "image/png": "[encoded data removed]",
            "text/plain": [
              "<Figure size 432x288 with 1 Axes>"
            ]
          },
          "metadata": {
            "tags": [],
            "needs_background": "light"
          }
        }
      ]
    }
  ]
}